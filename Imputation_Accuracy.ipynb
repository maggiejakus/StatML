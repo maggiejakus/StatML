{
 "cells": [
  {
   "cell_type": "code",
   "execution_count": 36,
   "metadata": {},
   "outputs": [],
   "source": [
    "#new way to calculate \"accuracy\"\n",
    "#read in ref and imp files as before\n",
    "#for each of 5000 SNPs\n",
    "#for each person\n",
    "#compare the reference with imputed genotype \n",
    "import pandas as pd\n",
    "import numpy as np\n",
    "\n",
    "orig10_file = pd.read_csv('ref_10.txt', delimiter=' ', header = None)\n",
    "inf10_file = pd.read_csv('inf_01.txt', delimiter=' ', header = None)\n",
    "\n",
    "accuracy_mtx = np.zeros((orig10_file.shape[0], int((orig10_file.shape[1] - 5) / 2)))\n",
    "num_SNPs = orig10_file.shape[0]\n",
    "                        \n",
    "for loc in range(num_SNPs):\n",
    "    refSNPs = orig10_file.loc[loc, 5:] #change file name here\n",
    "    infSNPs = inf10_file.loc[loc, 5:]\n",
    "    for hap in range(int(refSNPs.size / 2)):\n",
    "        ref_sum = refSNPs[2*hap + 5] + refSNPs[2*hap + 6]\n",
    "        if ref_sum == 0:\n",
    "            accuracy_mtx[loc, hap] = np.abs(1 - infSNPs[3*hap + 5])\n",
    "        elif ref_sum == 1:\n",
    "            accuracy_mtx[loc, hap] = np.abs(1 - infSNPs[3*hap + 6])\n",
    "        elif ref_sum == 2:\n",
    "            accuracy_mtx[loc, hap] = np.abs(1 - infSNPs[3*hap + 7])\n",
    "\n"
   ]
  },
  {
   "cell_type": "code",
   "execution_count": 37,
   "metadata": {},
   "outputs": [
    {
     "name": "stdout",
     "output_type": "stream",
     "text": [
      "[[0.    0.005 0.    0.006 0.01  0.008 0.    0.008 0.008 0.005]\n",
      " [0.017 0.044 0.017 0.044 0.068 0.062 0.022 0.064 0.068 0.044]\n",
      " [0.    0.    0.    0.    0.    0.    0.    0.    0.    0.   ]\n",
      " [0.012 0.113 0.988 0.12  0.779 0.193 0.012 0.194 0.215 0.111]\n",
      " [0.    0.    0.    0.    0.    0.    0.    0.    0.    0.   ]\n",
      " [0.268 0.243 0.366 0.219 0.819 0.191 0.262 0.186 0.187 0.252]\n",
      " [0.004 0.033 0.004 0.034 0.068 0.054 0.004 0.056 0.055 0.036]\n",
      " [0.001 0.011 0.001 0.011 0.02  0.026 0.001 0.02  0.019 0.011]\n",
      " [0.03  0.021 0.032 0.02  0.011 0.013 0.027 0.011 0.011 0.023]\n",
      " [0.008 0.086 0.992 0.089 0.831 0.145 0.008 0.148 0.161 0.083]]\n"
     ]
    }
   ],
   "source": [
    "print(accuracy_mtx[:10,:10])"
   ]
  },
  {
   "cell_type": "code",
   "execution_count": null,
   "metadata": {},
   "outputs": [],
   "source": []
  }
 ],
 "metadata": {
  "kernelspec": {
   "display_name": "Python 3",
   "language": "python",
   "name": "python3"
  },
  "language_info": {
   "codemirror_mode": {
    "name": "ipython",
    "version": 3
   },
   "file_extension": ".py",
   "mimetype": "text/x-python",
   "name": "python",
   "nbconvert_exporter": "python",
   "pygments_lexer": "ipython3",
   "version": "3.7.4"
  }
 },
 "nbformat": 4,
 "nbformat_minor": 2
}
