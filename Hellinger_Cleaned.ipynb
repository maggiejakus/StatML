{
 "cells": [
  {
   "cell_type": "code",
   "execution_count": 22,
   "metadata": {},
   "outputs": [],
   "source": [
    "import pandas as pd\n",
    "\n",
    "orig75_file = pd.read_csv('ref_75.txt', delimiter=' ', header = None)\n",
    "#orig75_file.to_csv ('75p-Ref.csv', index=None)\n",
    "\n",
    "orig50_file = pd.read_csv('ref_50.txt', delimiter=' ', header = None)\n",
    "#orig50_file.to_csv ('50p-Ref.csv', index=None)\n",
    "\n",
    "inf75_file = pd.read_csv ('imputed_vals_75.txt', delimiter=' ', header = None)\n",
    "#inf75_file.to_csv ('75p-InfCSV.csv', index=None)\n",
    "\n",
    "inf50_file = pd.read_csv ('inf_50.txt', delimiter=' ', header = None)\n",
    "#inf50_file.to_csv ('50p-InfCSV.csv', index=None)"
   ]
  },
  {
   "cell_type": "code",
   "execution_count": 23,
   "metadata": {},
   "outputs": [],
   "source": [
    "import pandas as pd\n",
    "\n",
    "orig10_file = pd.read_csv('ref_10.txt', delimiter=' ', header = None)\n",
    "#orig10_file.to_csv ('10p-Ref.csv', index=None)\n",
    "\n",
    "inf10_file = pd.read_csv ('inf_10.txt', delimiter=' ', header = None)\n",
    "#inf10_file.to_csv ('10p-InfCSV.csv', index=None)"
   ]
  },
  {
   "cell_type": "code",
   "execution_count": 24,
   "metadata": {},
   "outputs": [],
   "source": [
    "inf01_file = pd.read_csv ('inf_01.txt', delimiter=' ', header = None)\n",
    "#inf01_file.to_csv ('01p-InfCSV.csv', index=None)"
   ]
  },
  {
   "cell_type": "code",
   "execution_count": 74,
   "metadata": {},
   "outputs": [],
   "source": [
    "inf001_file = pd.read_csv ('inf_001.txt', delimiter=' ', header = None)\n",
    "#inf01_file.to_csv ('01p-InfCSV.csv', index=None)"
   ]
  },
  {
   "cell_type": "code",
   "execution_count": 80,
   "metadata": {},
   "outputs": [],
   "source": [
    "inf0001_10k_file = pd.read_csv ('inf_0001_10kpeople.txt', delimiter=' ', header = None)"
   ]
  },
  {
   "cell_type": "code",
   "execution_count": 90,
   "metadata": {},
   "outputs": [],
   "source": [
    "inf0001_5k_file = pd.read_csv ('in0001_5k.txt', delimiter=' ', header = None)"
   ]
  },
  {
   "cell_type": "code",
   "execution_count": 113,
   "metadata": {},
   "outputs": [],
   "source": [
    "inf95_5k_file = pd.read_csv ('inf95_5k.txt', delimiter=' ', header = None)"
   ]
  },
  {
   "cell_type": "code",
   "execution_count": 114,
   "metadata": {},
   "outputs": [],
   "source": [
    "inf99_5k_file = pd.read_csv ('inf99_5k.txt', delimiter=' ', header = None)"
   ]
  },
  {
   "cell_type": "code",
   "execution_count": 108,
   "metadata": {},
   "outputs": [],
   "source": [
    "inf50_10k_file = pd.read_csv ('inf50_10k.txt', delimiter=' ', header = None)"
   ]
  },
  {
   "cell_type": "code",
   "execution_count": null,
   "metadata": {},
   "outputs": [],
   "source": [
    "inf001_10k_file = pd.read_csv ('inf_001_10kpeople.txt', delimiter=' ', header = None)\n",
    "orig001_10k_file = pd.read_csv ('ref_001_10kpeople.txt', delimiter=' ', header = None)"
   ]
  },
  {
   "cell_type": "code",
   "execution_count": 25,
   "metadata": {},
   "outputs": [],
   "source": [
    "import numpy as np\n",
    "\n",
    "#np.savetxt('H75_out', H_75, delimiter=',')\n",
    "#np.savetxt('H50_out', H_50, delimiter = ',')"
   ]
  },
  {
   "cell_type": "code",
   "execution_count": 117,
   "metadata": {},
   "outputs": [],
   "source": [
    "#calculate probability distribution of reference:\n",
    "pr_maj_ref = []\n",
    "pr_hetero_ref = []\n",
    "pr_min_ref = []\n",
    "\n",
    "for loc in range(5000):\n",
    "    f_maj = 0\n",
    "    f_hetero = 0\n",
    "    f_min = 0\n",
    "    SNPs = orig50_file.loc[loc, 5:] #change file name here\n",
    "\n",
    "    for i in range(int((len(SNPs))/2)):\n",
    "        if (SNPs.loc[5 +2*i] + SNPs.loc[5+2*i+1]) == 0:\n",
    "            f_maj += 1\n",
    "        elif (SNPs.loc[5 +2*i] + SNPs.loc[5+2*i+1]) == 1:\n",
    "            f_hetero += 1\n",
    "        elif (SNPs.loc[5 +2*i] + SNPs.loc[5+2*i+1]) == 2:\n",
    "            f_min += 1\n",
    "    #multiplying by 2 because len(SNPs) is 2x \n",
    "    pr_maj_ref.append(f_maj / len(SNPs) * 2.0)\n",
    "    pr_hetero_ref.append(f_hetero / len(SNPs) * 2.0)\n",
    "    pr_min_ref.append(f_min / len(SNPs) * 2.0)\n",
    "    \n",
    "#calculate probability distribution of imputation:\n",
    "pr_maj_imp = []\n",
    "pr_hetero_imp = []\n",
    "pr_min_imp = []\n",
    "\n",
    "for loc in range(5000):\n",
    "    f_maj = 0\n",
    "    f_hetero = 0\n",
    "    f_min = 0\n",
    "    SNPs = inf99_5k_file.loc[loc, 5:] #change imputed file name here\n",
    "\n",
    "    for i in range(int((len(SNPs))/3)):\n",
    "        f_maj += SNPs.loc[5 +3*i]\n",
    "        f_hetero += SNPs.loc[5 + 3*i + 1]\n",
    "        f_min += SNPs.loc[5 +3*i + 2]\n",
    "    pr_maj_imp.append(f_maj / len(SNPs) * 3.0)\n",
    "    pr_hetero_imp.append(f_hetero / len(SNPs) * 3.0)\n",
    "    pr_min_imp.append(f_min / len(SNPs) * 3.0)\n",
    "    \n",
    "#find where imputation happens\n",
    "imputed_indices = []\n",
    "preserved_indices = []\n",
    "\n",
    "for loc in range(len(pr_maj_imp)):\n",
    "    chrom = inf99_5k_file.loc[loc, 0] #change imputed file name here\n",
    "    if chrom == \"22\":\n",
    "        preserved_indices.append(loc)\n",
    "    else:\n",
    "        imputed_indices.append(loc)\n",
    "\n",
    "\n",
    "#calculating Hellinger score\n",
    "import math\n",
    "H_score = []\n",
    "\n",
    "\n",
    "#having a machine epsilon problem...\n",
    "for i in range(len(imputed_indices)):\n",
    "    sqrt_sum = math.sqrt(pr_maj_ref[imputed_indices[i]] * pr_maj_imp[imputed_indices[i]]) + \\\n",
    "        math.sqrt(pr_hetero_ref[imputed_indices[i]] * pr_hetero_imp[imputed_indices[i]]) + \\\n",
    "        math.sqrt(pr_min_ref[imputed_indices[i]] * pr_min_imp[imputed_indices[i]])\n",
    "    if sqrt_sum > 1.0:\n",
    "        sqrt_sum = 1.0\n",
    "    H_score.append(1 - math.sqrt(1-sqrt_sum))\n",
    "    \n",
    "\n",
    "#rename H_score\n",
    "H_99_5k = H_score #change this name!\n",
    "\n",
    "np.savetxt('H99_5k_11162020', H_99_5k, delimiter = ',') #SAVE HERE"
   ]
  },
  {
   "cell_type": "markdown",
   "metadata": {},
   "source": [
    "## "
   ]
  },
  {
   "cell_type": "markdown",
   "metadata": {},
   "source": [
    "print(max(H_01))\n",
    "print(max(H_10))\n",
    "print(max(H_50))\n",
    "print(max(H_75))"
   ]
  },
  {
   "cell_type": "code",
   "execution_count": 103,
   "metadata": {},
   "outputs": [],
   "source": [
    "#making violin plot of Hellinger score\n",
    "import matplotlib.pyplot as plt\n",
    "import numpy as np\n",
    "\n",
    "import matplotlib.patches as mpatches\n",
    "from itertools import repeat\n",
    "\n",
    "red_patch = mpatches.Patch(color='blue')\n",
    "\n",
    "\n",
    "#ax.set_ylim(0, 1)\n",
    "\n",
    "#fake data\n",
    "pos   = [1, 2,3,4,5,6, 7,8]\n",
    "label = ['IMPUTE2 at 0.1%', 'IMPUTE2 at 0.1% 10k','IMPUTE2 at 1%', 'IMPUTE2 at 10%','IMPUTE2 at 50%', 'IMPUTE2 at 75%']\n",
    "data  = [np.random.normal(size=100) for i in pos]\n",
    "\n",
    "\n",
    "\n",
    "fake_handles = repeat(red_patch, len(pos))\n",
    "\n",
    "\n",
    "bp = ax.violinplot([H_0001_5k, H_0001_10k, H_001, H_001_10k, H_01, H_10, H_50, H_75])\n",
    "#ax.legend(label, loc = 'lower right')\n",
    "ax.set_xticks([1, 2, 3, 4, 5, 6, 7, 8])\n",
    "ax.set_xticklabels(['0.01% 5k','0.01% 10k', '0.1% 5k', '0.1% 10k', '1% 5k', '10% 5k', '50% 5k', '75% 5k'])\n",
    "plt.show()"
   ]
  },
  {
   "cell_type": "code",
   "execution_count": 104,
   "metadata": {},
   "outputs": [
    {
     "data": {
      "image/png": "[encoded data removed]",
      "text/plain": [
       "<Figure size 432x288 with 1 Axes>"
      ]
     },
     "metadata": {
      "needs_background": "light"
     },
     "output_type": "display_data"
    }
   ],
   "source": [
    "fig = plt.figure()\n",
    "\n",
    "ax = fig.add_axes([0,0,1,1])\n",
    "#ax.set_xticks([1, 2, 3, 4, 5, 6, 7])\n",
    "ax.set_xticklabels(['0.01% 5k', '0.01% 10k', '0.1% 5k', '0.1% 10k', '1% 5k', '10% 5k', '50% 5k', '75% 5k'])\n",
    "ax.boxplot([H_0001_5k, H_0001_10k, H_001, H_001_10k, H_01, H_10, H_50, H_75], showfliers=False)\n",
    "plt.title(\"Hellinger Scores\")\n",
    "\n",
    "\n",
    "\n",
    "plt.show()\n",
    "\n"
   ]
  },
  {
   "cell_type": "code",
   "execution_count": 119,
   "metadata": {},
   "outputs": [
    {
     "data": {
      "image/png": "[encoded data removed]",
      "text/plain": [
       "<Figure size 432x288 with 1 Axes>"
      ]
     },
     "metadata": {
      "needs_background": "light"
     },
     "output_type": "display_data"
    }
   ],
   "source": [
    "fig = plt.figure()\n",
    "\n",
    "ax = fig.add_axes([0,0,1,1])\n",
    "#ax.set_xticks([1, 2, 3, 4, 5, 6, 7])\n",
    "ax.set_xticklabels(['0.01%','0.1%', '1%', '10%', '50%', '75%', '95%', '99%'])\n",
    "ax.boxplot([H_0001_5k, H_001, H_01, H_10, H_50, H_75, H_95_5k, H_99_5k], showfliers=False)\n",
    "plt.title(\"Hellinger Scores: 5000 Total SNPs\")\n",
    "plt.xlabel('Percent SNPs Retained')\n",
    "plt.ylabel('Hellinger Score')\n",
    "\n",
    "\n",
    "\n",
    "plt.show()\n",
    "\n",
    "\n"
   ]
  },
  {
   "cell_type": "code",
   "execution_count": 110,
   "metadata": {},
   "outputs": [
    {
     "data": {
      "image/png": "[encoded data removed]",
      "text/plain": [
       "<Figure size 432x288 with 1 Axes>"
      ]
     },
     "metadata": {
      "needs_background": "light"
     },
     "output_type": "display_data"
    }
   ],
   "source": [
    "fig = plt.figure()\n",
    "\n",
    "ax = fig.add_axes([0,0,1,1])\n",
    "#ax.set_xticks([1, 2, 3, 4, 5, 6, 7])\n",
    "ax.set_xticklabels(['0.01%','0.1%', '50%'])\n",
    "ax.boxplot([H_0001_10k, H_001_10k, H_50_10k], showfliers=False)\n",
    "plt.title(\"Hellinger Scores: 10000 Total SNPs\")\n",
    "plt.xlabel('Percent SNPs Retained')\n",
    "plt.ylabel('Hellinger Score')\n",
    "\n",
    "\n",
    "\n",
    "plt.show()\n",
    "\n"
   ]
  },
  {
   "cell_type": "code",
   "execution_count": 111,
   "metadata": {},
   "outputs": [
    {
     "data": {
      "image/png": "[encoded data removed]",
      "text/plain": [
       "<Figure size 432x288 with 1 Axes>"
      ]
     },
     "metadata": {
      "needs_background": "light"
     },
     "output_type": "display_data"
    }
   ],
   "source": [
    "fig = plt.figure()\n",
    "\n",
    "ax = fig.add_axes([0,0,1,1])\n",
    "#ax.set_xticks([1, 2, 3, 4, 5, 6, 7])\n",
    "ax.set_xticklabels(['5k','10k'])\n",
    "ax.boxplot([H_50, H_50_10k], showfliers=False)\n",
    "plt.title(\"Hellinger Scores: 5k vs 10k Total SNPs at 50%\")\n",
    "plt.xlabel('Percent SNPs Retained')\n",
    "plt.ylabel('Hellinger Score')\n",
    "\n",
    "\n",
    "\n",
    "plt.show()\n",
    "\n",
    "\n"
   ]
  },
  {
   "cell_type": "code",
   "execution_count": 112,
   "metadata": {},
   "outputs": [
    {
     "data": {
      "image/png": "[encoded data removed]",
      "text/plain": [
       "<Figure size 432x288 with 1 Axes>"
      ]
     },
     "metadata": {
      "needs_background": "light"
     },
     "output_type": "display_data"
    }
   ],
   "source": [
    "fig = plt.figure()\n",
    "\n",
    "ax = fig.add_axes([0,0,1,1])\n",
    "#ax.set_xticks([1, 2, 3, 4, 5, 6, 7])\n",
    "ax.set_xticklabels(['5k','10k'])\n",
    "ax.boxplot([H_0001_5k, H_0001_10k], showfliers=False)\n",
    "plt.title(\"Hellinger Scores: 5k vs 10k Total SNPs at 0.01%\")\n",
    "plt.xlabel('Percent SNPs Retained')\n",
    "plt.ylabel('Hellinger Score')\n",
    "\n",
    "plt.show()"
   ]
  },
  {
   "cell_type": "code",
   "execution_count": null,
   "metadata": {},
   "outputs": [],
   "source": []
  }
 ],
 "metadata": {
  "kernelspec": {
   "display_name": "Python 3",
   "language": "python",
   "name": "python3"
  },
  "language_info": {
   "codemirror_mode": {
    "name": "ipython",
    "version": 3
   },
   "file_extension": ".py",
   "mimetype": "text/x-python",
   "name": "python",
   "nbconvert_exporter": "python",
   "pygments_lexer": "ipython3",
   "version": "3.7.4"
  }
 },
 "nbformat": 4,
 "nbformat_minor": 4
}
