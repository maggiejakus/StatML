{
 "cells": [
  {
   "cell_type": "code",
   "execution_count": 46,
   "metadata": {},
   "outputs": [],
   "source": [
    "import pandas as pd\n",
    "\n",
    "orig75_file = pd.read_csv('ref_75.txt', delimiter=' ', header = None)\n",
    "orig75_file.to_csv ('75p-Ref.csv', index=None)\n",
    "\n",
    "orig50_file = pd.read_csv('ref_50.txt', delimiter=' ', header = None)\n",
    "orig50_file.to_csv ('50p-Ref.csv', index=None)\n",
    "\n",
    "inf75_file = pd.read_csv ('imputed_vals_75.txt', delimiter=' ', header = None)\n",
    "inf75_file.to_csv ('75p-InfCSV.csv', index=None)\n",
    "\n",
    "inf50_file = pd.read_csv ('inf_50.txt', delimiter=' ', header = None)\n",
    "inf50_file.to_csv ('50p-InfCSV.csv', index=None)"
   ]
  },
  {
   "cell_type": "code",
   "execution_count": 47,
   "metadata": {},
   "outputs": [],
   "source": [
    "#we want to calculate the probability distributions of the orig and inferred genotypes\n",
    "#inferred data gives three nums, while orig data gives two nums\n",
    "#naive solution\n",
    "\n",
    "pr_maj75 = []\n",
    "pr_hetero75 = []\n",
    "pr_min75 = []\n",
    "\n",
    "for loc in range(5000):\n",
    "    f_maj = 0\n",
    "    f_hetero = 0\n",
    "    f_min = 0\n",
    "    SNP_75 = orig75_file.loc[loc, 5:]\n",
    "\n",
    "    for i in range(int((len(SNP_75))/2)):\n",
    "        if (SNP_75.loc[5 +2*i] + SNP_75.loc[5+2*i+1]) == 0:\n",
    "            f_maj += 1\n",
    "        elif (SNP_75.loc[5 +2*i] + SNP_75.loc[5+2*i+1]) == 1:\n",
    "            f_hetero += 1\n",
    "        elif (SNP_75.loc[5 +2*i] + SNP_75.loc[5+2*i+1]) == 2:\n",
    "            f_min += 1\n",
    "    pr_maj75.append(f_maj / len(SNP_75) * 2.0)\n",
    "    pr_hetero75.append(f_hetero / len(SNP_75) * 2.0)\n",
    "    pr_min75.append(f_min / len(SNP_75) * 2.0)\n",
    "    "
   ]
  },
  {
   "cell_type": "code",
   "execution_count": null,
   "metadata": {},
   "outputs": [],
   "source": [
    "#calculate probability distribution of reference:\n",
    "pr_maj_ref = []\n",
    "pr_hetero_ref = []\n",
    "pr_min_ref = []\n",
    "\n",
    "for loc in range(5000):\n",
    "    f_maj = 0\n",
    "    f_hetero = 0\n",
    "    f_min = 0\n",
    "    SNPs = orig75_file.loc[loc, 5:] #change file name here\n",
    "\n",
    "    for i in range(int((len(SNP_75))/2)):\n",
    "        if (SNPs.loc[5 +2*i] + SNPs.loc[5+2*i+1]) == 0:\n",
    "            f_maj += 1\n",
    "        elif (SNPs.loc[5 +2*i] + SNPs.loc[5+2*i+1]) == 1:\n",
    "            f_hetero += 1\n",
    "        elif (SNPs.loc[5 +2*i] + SNPs.loc[5+2*i+1]) == 2:\n",
    "            f_min += 1\n",
    "    pr_maj_ref.append(f_maj / len(SNPs) * 2.0)\n",
    "    pr_hetero_ref.append(f_hetero / len(SNPs) * 2.0)\n",
    "    pr_min_ref.append(f_min / len(SNPs) * 2.0)\n",
    "    "
   ]
  },
  {
   "cell_type": "code",
   "execution_count": 61,
   "metadata": {},
   "outputs": [],
   "source": [
    "#we want to calculate the probability distributions of the orig and inferred genotypes\n",
    "#inferred data gives three nums, while orig data gives two nums\n",
    "#naive solution\n",
    "\n",
    "pr_maj50 = []\n",
    "pr_hetero50 = []\n",
    "pr_min50 = []\n",
    "\n",
    "for loc in range(5000):\n",
    "    f_maj50 = 0\n",
    "    f_hetero50 = 0\n",
    "    f_min50 = 0\n",
    "    SNP_50 = orig50_file.loc[loc, 5:]\n",
    "\n",
    "    for i in range(int((len(SNP_50))/2)):\n",
    "        if (SNP_50.loc[5 +2*i] + SNP_50.loc[5+2*i+1]) == 0:\n",
    "            f_maj50 += 1\n",
    "        elif (SNP_50.loc[5 +2*i] + SNP_50.loc[5+2*i+1]) == 1:\n",
    "            f_hetero50 += 1\n",
    "        elif (SNP_50.loc[5 +2*i] + SNP_50.loc[5+2*i+1]) == 2:\n",
    "            f_min50 += 1\n",
    "    pr_maj50.append(f_maj50 / len(SNP_50) * 2.0)\n",
    "    pr_hetero50.append(f_hetero50 / len(SNP_50) * 2.0)\n",
    "    pr_min50.append(f_min50 / len(SNP_50) * 2.0)\n",
    "    "
   ]
  },
  {
   "cell_type": "code",
   "execution_count": 67,
   "metadata": {},
   "outputs": [
    {
     "name": "stdout",
     "output_type": "stream",
     "text": [
      "[0.0, 0.0, 0.0, 0.011857707509881422, 0.0, 0.0, 0.003952569169960474, 0.0, 0.0, 0.007905138339920948]\n",
      "[0.007905138339920948, 0.02766798418972332, 0.007905138339920948, 0.16996047430830039, 0.007905138339920948, 0.22134387351778656, 0.043478260869565216, 0.039525691699604744, 0.003952569169960474, 0.1541501976284585]\n",
      "[0.0, 0.0, 0.0, 0.011857707509881422, 0.0, 0.0, 0.003952569169960474, 0.0, 0.0, 0.007905138339920948]\n",
      "[0.007905138339920948, 0.02766798418972332, 0.007905138339920948, 0.16996047430830039, 0.007905138339920948, 0.22134387351778656, 0.043478260869565216, 0.039525691699604744, 0.003952569169960474, 0.1541501976284585]\n"
     ]
    }
   ],
   "source": [
    "print(pr_maj75[:10])\n",
    "print(pr_hetero75[:10])\n",
    "\n",
    "print(pr_maj50[:10])\n",
    "print(pr_hetero50[:10])"
   ]
  },
  {
   "cell_type": "code",
   "execution_count": 49,
   "metadata": {},
   "outputs": [],
   "source": [
    "#calculating prob inferred\n",
    "pr_maj_inf_75 = []\n",
    "pr_hetero_inf_75 = []\n",
    "pr_min_inf_75 = []\n",
    "\n",
    "for loc in range(5000):\n",
    "    f_maj = 0\n",
    "    f_hetero = 0\n",
    "    f_min = 0\n",
    "    SNP75 = inf75_file.loc[loc, 5:]\n",
    "\n",
    "    for i in range(int((len(SNP75))/3)):\n",
    "        f_maj += SNP75.loc[5 +3*i]\n",
    "        f_hetero += SNP75.loc[5 + 3*i + 1]\n",
    "        f_min += SNP75.loc[5 +3*i + 2]\n",
    "    pr_maj_inf_75.append(f_maj / len(SNP75) * 2.0)\n",
    "    pr_hetero_inf_75.append(f_hetero / len(SNP75) * 2.0)\n",
    "    pr_min_inf_75.append(f_min / len(SNP75) * 2.0)\n",
    "    "
   ]
  },
  {
   "cell_type": "code",
   "execution_count": 50,
   "metadata": {},
   "outputs": [],
   "source": [
    "#calculating prob inferred\n",
    "pr_maj_inf_50 = []\n",
    "pr_hetero_inf_50 = []\n",
    "pr_min_inf_50 = []\n",
    "\n",
    "for loc in range(5000):\n",
    "    f_maj = 0\n",
    "    f_hetero = 0\n",
    "    f_min = 0\n",
    "    SNP50 = inf50_file.loc[loc, 5:]\n",
    "\n",
    "    for i in range(int((len(SNP50))/3)):\n",
    "        f_maj += SNP50.loc[5 +3*i]\n",
    "        f_hetero += SNP50.loc[5 + 3*i + 1]\n",
    "        f_min += SNP50.loc[5 +3*i + 2]\n",
    "    pr_maj_inf_50.append(f_maj / len(SNP50) * 2.0)\n",
    "    pr_hetero_inf_50.append(f_hetero / len(SNP50) * 2.0)\n",
    "    pr_min_inf_50.append(f_min / len(SNP50) * 2.0)\n",
    "    "
   ]
  },
  {
   "cell_type": "code",
   "execution_count": 68,
   "metadata": {},
   "outputs": [
    {
     "name": "stdout",
     "output_type": "stream",
     "text": [
      "[0.0, 0.0, 0.0, 0.007923583662714092, 0.0, 0.0, 8.168642951251647e-05, 0.0, 0.0, 0.0052437417654808945]\n",
      "[0.005270092226613966, 0.01844532279314888, 0.0, 0.11168115942028992, 0.005270092226613966, 0.14756258234519104, 0.03407378129117257, 0.026350461133069828, 0.002635046113306983, 0.10070619235836627]\n",
      "[0.0, 7.90513833992095e-06, 0.0, 0.007894598155467709, 0.0, 0.0002582345191040845, 0.0003794466403162055, 0.0, 0.0, 0.005188405797101449]\n",
      "[0.005270092226613966, 0.03013438735177861, 0.0, 0.11364426877470345, 0.005270092226613966, 0.13212648221343873, 0.03366534914360997, 0.026350461133069828, 0.002635046113306983, 0.1029222661396575]\n"
     ]
    }
   ],
   "source": [
    "print(pr_maj_inf_75[:10])\n",
    "print(pr_hetero_inf_75[:10])\n",
    "\n",
    "print(pr_maj_inf_50[:10])\n",
    "print(pr_hetero_inf_50[:10])"
   ]
  },
  {
   "cell_type": "code",
   "execution_count": 51,
   "metadata": {},
   "outputs": [
    {
     "data": {
      "text/plain": [
       "'\\nimport math\\nH = []\\nfor i in range(len(pr_maj)):\\n    sqrt_sum = math.sqrt(pr_maj[i] * pr_maj_inf[i]) + math.sqrt(pr_hetero[i] * pr_hetero_inf[i]) +                         math.sqrt(pr_min[i] * pr_min_inf[i])\\n    #sqrt_sum = math.sqrt(pr_maj[i] * pr_maj[i]) + math.sqrt(pr_hetero[i] * pr_hetero[i]) +     #                    math.sqrt(pr_min[i] * pr_min[i])\\n    H.append(1 - math.sqrt(1-sqrt_sum))'"
      ]
     },
     "execution_count": 51,
     "metadata": {},
     "output_type": "execute_result"
    }
   ],
   "source": [
    "#calculating Hellinger score\n",
    "'''\n",
    "import math\n",
    "H = []\n",
    "for i in range(len(pr_maj)):\n",
    "    sqrt_sum = math.sqrt(pr_maj[i] * pr_maj_inf[i]) + math.sqrt(pr_hetero[i] * pr_hetero_inf[i]) + \\\n",
    "                        math.sqrt(pr_min[i] * pr_min_inf[i])\n",
    "    #sqrt_sum = math.sqrt(pr_maj[i] * pr_maj[i]) + math.sqrt(pr_hetero[i] * pr_hetero[i]) + \\\n",
    "    #                    math.sqrt(pr_min[i] * pr_min[i])\n",
    "    H.append(1 - math.sqrt(1-sqrt_sum))'''"
   ]
  },
  {
   "cell_type": "code",
   "execution_count": 62,
   "metadata": {},
   "outputs": [],
   "source": [
    "#want to calculate indices where imputation actually happened (rather than the SNPs \\\n",
    "#that were preserved)\n",
    "\n",
    "imputed_indices_50 = []\n",
    "preserved_indices_50 = []\n",
    "\n",
    "imputed_indices_75 = []\n",
    "preserved_indices_75 = []\n",
    "\n",
    "for loc in range(len(pr_maj)):\n",
    "    chrom = inf75_file.loc[loc, 0]\n",
    "    if chrom == \"22\":\n",
    "        preserved_indices_75.append(loc)\n",
    "    else:\n",
    "        imputed_indices_75.append(loc)\n",
    "\n",
    "for loc in range(len(pr_maj)):\n",
    "    chrom = inf50_file.loc[loc, 0]\n",
    "    if chrom == \"22\":\n",
    "        preserved_indices_50.append(loc)\n",
    "    else:\n",
    "        imputed_indices_50.append(loc)        \n"
   ]
  },
  {
   "cell_type": "code",
   "execution_count": 63,
   "metadata": {},
   "outputs": [],
   "source": [
    "#calculating Hellinger score\n",
    "\n",
    "import math\n",
    "H_75 = []\n",
    "H_50= []\n",
    "\n",
    "for i in range(len(imputed_indices_75)):\n",
    "    sqrt_sum = math.sqrt(pr_maj75[imputed_indices_75[i]] * pr_maj_inf_75[imputed_indices_75[i]]) + \\\n",
    "        math.sqrt(pr_hetero75[imputed_indices_75[i]] * pr_hetero_inf_75[imputed_indices_75[i]]) + \\\n",
    "        math.sqrt(pr_min75[imputed_indices_75[i]] * pr_min_inf_75[imputed_indices_75[i]])\n",
    "    #sqrt_sum = math.sqrt(pr_maj[i] * pr_maj[i]) + math.sqrt(pr_hetero[i] * pr_hetero[i]) + \\\n",
    "    #                    math.sqrt(pr_min[i] * pr_min[i])\n",
    "    H_75.append(1 - math.sqrt(1-sqrt_sum))\n",
    "    \n",
    "for i in range(len(imputed_indices_50)):\n",
    "    sqrt_sum = math.sqrt(pr_maj50[imputed_indices_50[i]] * pr_maj_inf_50[imputed_indices_50[i]]) + \\\n",
    "        math.sqrt(pr_hetero50[imputed_indices_50[i]] * pr_hetero_inf_50[imputed_indices_50[i]]) + \\\n",
    "        math.sqrt(pr_min50[imputed_indices_50[i]] * pr_min_inf_50[imputed_indices_50[i]])\n",
    "    #sqrt_sum = math.sqrt(pr_maj[i] * pr_maj[i]) + math.sqrt(pr_hetero[i] * pr_hetero[i]) + \\\n",
    "    #                    math.sqrt(pr_min[i] * pr_min[i])\n",
    "    H_50.append(1 - math.sqrt(1-sqrt_sum))\n",
    "\n",
    "    "
   ]
  },
  {
   "cell_type": "code",
   "execution_count": 64,
   "metadata": {},
   "outputs": [
    {
     "name": "stdout",
     "output_type": "stream",
     "text": [
      "[0.5705549840908234, 0.5678691383357062, 0.5716211407695518, 0.5710488281478956, 0.5707683346952775, 0.5715721159310474, 0.5715834233781676, 0.5708670300337613, 0.5680134867234059, 0.5716270093906429]\n"
     ]
    }
   ],
   "source": [
    "print(H_50[:10])"
   ]
  },
  {
   "cell_type": "code",
   "execution_count": 66,
   "metadata": {},
   "outputs": [
    {
     "data": {
      "image/png": "[encoded data removed]",
      "text/plain": [
       "<Figure size 432x288 with 1 Axes>"
      ]
     },
     "metadata": {
      "needs_background": "light"
     },
     "output_type": "display_data"
    }
   ],
   "source": [
    "#making violin plot of Hellinger score\n",
    "import matplotlib.pyplot as plt\n",
    "import numpy as np\n",
    "\n",
    "import matplotlib.patches as mpatches\n",
    "from itertools import repeat\n",
    "\n",
    "red_patch = mpatches.Patch(color='blue')\n",
    "\n",
    "\n",
    "fig = plt.figure()\n",
    "\n",
    "ax = fig.add_axes([0,0,1,1])\n",
    "#ax.set_ylim(0, 1)\n",
    "\n",
    "#fake data\n",
    "pos   = [1, 2]\n",
    "label = ['IMPUTE2 at 50%', 'IMPUTE2 at 75%']\n",
    "data  = [np.random.normal(size=100) for i in pos]\n",
    "fake_handles = repeat(red_patch, len(pos))\n",
    "\n",
    "\n",
    "bp = ax.violinplot([H_50, H_75])\n",
    "ax.legend(label, loc = 'lower right')\n",
    "plt.show()"
   ]
  },
  {
   "cell_type": "code",
   "execution_count": null,
   "metadata": {},
   "outputs": [],
   "source": []
  }
 ],
 "metadata": {
  "kernelspec": {
   "display_name": "Python 3",
   "language": "python",
   "name": "python3"
  },
  "language_info": {
   "codemirror_mode": {
    "name": "ipython",
    "version": 3
   },
   "file_extension": ".py",
   "mimetype": "text/x-python",
   "name": "python",
   "nbconvert_exporter": "python",
   "pygments_lexer": "ipython3",
   "version": "3.7.4"
  }
 },
 "nbformat": 4,
 "nbformat_minor": 4
}
