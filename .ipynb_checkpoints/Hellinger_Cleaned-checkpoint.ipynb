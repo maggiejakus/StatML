{
 "cells": [
  {
   "cell_type": "code",
   "execution_count": 46,
   "metadata": {},
   "outputs": [],
   "source": [
    "import pandas as pd\n",
    "\n",
    "orig75_file = pd.read_csv('ref_75.txt', delimiter=' ', header = None)\n",
    "orig75_file.to_csv ('75p-Ref.csv', index=None)\n",
    "\n",
    "orig50_file = pd.read_csv('ref_50.txt', delimiter=' ', header = None)\n",
    "orig50_file.to_csv ('50p-Ref.csv', index=None)\n",
    "\n",
    "inf75_file = pd.read_csv ('imputed_vals_75.txt', delimiter=' ', header = None)\n",
    "inf75_file.to_csv ('75p-InfCSV.csv', index=None)\n",
    "\n",
    "inf50_file = pd.read_csv ('inf_50.txt', delimiter=' ', header = None)\n",
    "inf50_file.to_csv ('50p-InfCSV.csv', index=None)"
   ]
  },
  {
   "cell_type": "code",
   "execution_count": 77,
   "metadata": {},
   "outputs": [],
   "source": [
    "orig10_file = pd.read_csv('ref_10.txt', delimiter=' ', header = None)\n",
    "orig10_file.to_csv ('10p-Ref.csv', index=None)\n",
    "\n",
    "inf10_file = pd.read_csv ('inf_10.txt', delimiter=' ', header = None)\n",
    "inf10_file.to_csv ('10p-InfCSV.csv', index=None)"
   ]
  },
  {
   "cell_type": "code",
   "execution_count": 86,
   "metadata": {},
   "outputs": [],
   "source": [
    "inf01_file = pd.read_csv ('inf_01.txt', delimiter=' ', header = None)\n",
    "inf01_file.to_csv ('01p-InfCSV.csv', index=None)"
   ]
  },
  {
   "cell_type": "code",
   "execution_count": 76,
   "metadata": {},
   "outputs": [],
   "source": [
    "import numpy as np\n",
    "\n",
    "np.savetxt('H75_out', H_75, delimiter=',')\n",
    "np.savetxt('H50_out', H_50, delimiter = ',')"
   ]
  },
  {
   "cell_type": "code",
   "execution_count": 87,
   "metadata": {},
   "outputs": [],
   "source": [
    "#calculate probability distribution of reference:\n",
    "pr_maj_ref = []\n",
    "pr_hetero_ref = []\n",
    "pr_min_ref = []\n",
    "\n",
    "for loc in range(5000):\n",
    "    f_maj = 0\n",
    "    f_hetero = 0\n",
    "    f_min = 0\n",
    "    SNPs = orig10_file.loc[loc, 5:] #change file name here\n",
    "\n",
    "    for i in range(int((len(SNP_75))/2)):\n",
    "        if (SNPs.loc[5 +2*i] + SNPs.loc[5+2*i+1]) == 0:\n",
    "            f_maj += 1\n",
    "        elif (SNPs.loc[5 +2*i] + SNPs.loc[5+2*i+1]) == 1:\n",
    "            f_hetero += 1\n",
    "        elif (SNPs.loc[5 +2*i] + SNPs.loc[5+2*i+1]) == 2:\n",
    "            f_min += 1\n",
    "    pr_maj_ref.append(f_maj / len(SNPs) * 2.0)\n",
    "    pr_hetero_ref.append(f_hetero / len(SNPs) * 2.0)\n",
    "    pr_min_ref.append(f_min / len(SNPs) * 2.0)\n",
    "    \n",
    "#calculate probability distribution of imputation:\n",
    "pr_maj_imp = []\n",
    "pr_hetero_imp = []\n",
    "pr_min_imp = []\n",
    "\n",
    "for loc in range(5000):\n",
    "    f_maj = 0\n",
    "    f_hetero = 0\n",
    "    f_min = 0\n",
    "    SNPs = inf01_file.loc[loc, 5:] #change imputed file name here\n",
    "\n",
    "    for i in range(int((len(SNPs))/3)):\n",
    "        f_maj += SNPs.loc[5 +3*i]\n",
    "        f_hetero += SNPs.loc[5 + 3*i + 1]\n",
    "        f_min += SNPs.loc[5 +3*i + 2]\n",
    "    pr_maj_imp.append(f_maj / len(SNPs) * 2.0)\n",
    "    pr_hetero_imp.append(f_hetero / len(SNPs) * 2.0)\n",
    "    pr_min_imp.append(f_min / len(SNPs) * 2.0)\n",
    "    \n",
    "#find where imputation happens\n",
    "imputed_indices = []\n",
    "preserved_indices = []\n",
    "\n",
    "for loc in range(len(pr_maj_imp)):\n",
    "    chrom = inf10_file.loc[loc, 0] #change imputed file name here\n",
    "    if chrom == \"22\":\n",
    "        preserved_indices.append(loc)\n",
    "    else:\n",
    "        imputed_indices.append(loc)\n",
    "\n",
    "\n",
    "#calculating Hellinger score\n",
    "import math\n",
    "H_score = []\n",
    "\n",
    "for i in range(len(imputed_indices)):\n",
    "    sqrt_sum = math.sqrt(pr_maj_ref[imputed_indices[i]] * pr_maj_imp[imputed_indices[i]]) + \\\n",
    "        math.sqrt(pr_hetero_ref[imputed_indices[i]] * pr_hetero_imp[imputed_indices[i]]) + \\\n",
    "        math.sqrt(pr_min_ref[imputed_indices[i]] * pr_min_imp[imputed_indices[i]])\n",
    "    H_score.append(1 - math.sqrt(1-sqrt_sum))\n",
    "    \n",
    "\n",
    "#rename H_score\n",
    "H_01 = H_score #change this name!\n",
    "\n",
    "np.savetxt('H01_out', H_01, delimiter = ',') #SAVE HERE"
   ]
  },
  {
   "cell_type": "code",
   "execution_count": 88,
   "metadata": {},
   "outputs": [
    {
     "name": "stdout",
     "output_type": "stream",
     "text": [
      "0.5716407317014052\n",
      "0.5716270094038679\n",
      "0.5716270094038679\n",
      "0.5716270094038679\n"
     ]
    }
   ],
   "source": [
    "print(max(H_01))\n",
    "print(max(H_10))\n",
    "print(max(H_50))\n",
    "print(max(H_75))"
   ]
  },
  {
   "cell_type": "code",
   "execution_count": 89,
   "metadata": {},
   "outputs": [
    {
     "data": {
      "image/png": "[encoded data removed]",
      "text/plain": [
       "<Figure size 432x288 with 1 Axes>"
      ]
     },
     "metadata": {
      "needs_background": "light"
     },
     "output_type": "display_data"
    }
   ],
   "source": [
    "#making violin plot of Hellinger score\n",
    "import matplotlib.pyplot as plt\n",
    "import numpy as np\n",
    "\n",
    "import matplotlib.patches as mpatches\n",
    "from itertools import repeat\n",
    "\n",
    "red_patch = mpatches.Patch(color='blue')\n",
    "\n",
    "\n",
    "fig = plt.figure()\n",
    "\n",
    "ax = fig.add_axes([0,0,1,1])\n",
    "#ax.set_ylim(0, 1)\n",
    "\n",
    "#fake data\n",
    "pos   = [1, 2,3,4]\n",
    "label = ['IMPUTE2 at 1%', 'IMPUTE2 at 10%','IMPUTE2 at 50%', 'IMPUTE2 at 75%']\n",
    "data  = [np.random.normal(size=100) for i in pos]\n",
    "fake_handles = repeat(red_patch, len(pos))\n",
    "\n",
    "\n",
    "bp = ax.violinplot([H_01, H_10, H_50, H_75])\n",
    "ax.legend(label, loc = 'lower right')\n",
    "plt.show()"
   ]
  },
  {
   "cell_type": "code",
   "execution_count": null,
   "metadata": {},
   "outputs": [],
   "source": []
  }
 ],
 "metadata": {
  "kernelspec": {
   "display_name": "Python 3",
   "language": "python",
   "name": "python3"
  },
  "language_info": {
   "codemirror_mode": {
    "name": "ipython",
    "version": 3
   },
   "file_extension": ".py",
   "mimetype": "text/x-python",
   "name": "python",
   "nbconvert_exporter": "python",
   "pygments_lexer": "ipython3",
   "version": "3.7.4"
  }
 },
 "nbformat": 4,
 "nbformat_minor": 4
}
