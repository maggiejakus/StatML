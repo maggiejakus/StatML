{
 "cells": [
  {
   "cell_type": "code",
   "execution_count": 32,
   "metadata": {},
   "outputs": [],
   "source": [
    "#new way to calculate \"accuracy\"\n",
    "#read in ref and imp files as before\n",
    "#for each of 5000 SNPs\n",
    "#for each person\n",
    "#compare the reference with imputed genotype \n",
    "import pandas as pd\n",
    "import numpy as np\n",
    "\n",
    "orig10_file = pd.read_csv('ref_10.txt', delimiter=' ', header = None)\n",
    "inf10_file = pd.read_csv('inf_10.txt', delimiter=' ', header = None)\n",
    "\n",
    "accuracy_mtx = np.zeros((orig10_file.shape[0], int((orig10_file.shape[1] - 5) / 2)))\n",
    "num_SNPs = orig10_file.shape[0]\n",
    "                        \n",
    "for loc in range(num_SNPs):\n",
    "    refSNPs = orig10_file.loc[loc, 5:] #change file name here\n",
    "    infSNPs = inf10_file.loc[loc, 5:]\n",
    "    for hap in range(int(refSNPs.size / 2)):\n",
    "        ref_sum = refSNPs[2*hap + 5] + refSNPs[2*hap + 6]\n",
    "        if ref_sum == 0:\n",
    "            accuracy_mtx[loc, hap] = np.abs(1 - infSNPs[3*hap + 5])\n",
    "        elif ref_sum == 1:\n",
    "            accuracy_mtx[loc, hap] = np.abs(1 - infSNPs[3*hap + 6])\n",
    "        elif ref_sum == 2:\n",
    "            accuracy_mtx[loc, hap] = np.abs(1 - infSNPs[3*hap + 7])\n",
    "\n"
   ]
  },
  {
   "cell_type": "code",
   "execution_count": 35,
   "metadata": {},
   "outputs": [
    {
     "name": "stdout",
     "output_type": "stream",
     "text": [
      "[[0.    0.    0.    0.    0.    0.    0.    0.001 0.    0.001]\n",
      " [0.016 0.008 0.02  0.007 0.051 0.076 0.012 0.143 0.008 0.08 ]\n",
      " [0.    0.    0.    0.    0.    0.    0.    0.    0.    0.   ]\n",
      " [0.01  0.007 0.162 0.01  0.051 0.01  0.008 0.012 0.01  0.01 ]\n",
      " [0.    0.    0.    0.    0.    0.    0.    0.001 0.    0.001]\n",
      " [0.364 0.144 0.119 0.136 0.919 0.184 0.335 0.426 0.044 0.202]\n",
      " [0.004 0.002 0.003 0.006 0.369 0.008 0.003 0.193 0.007 0.076]\n",
      " [0.001 0.    0.001 0.026 0.004 0.003 0.001 0.016 0.027 0.006]\n",
      " [0.002 0.001 0.077 0.002 0.001 0.001 0.001 0.002 0.001 0.002]\n",
      " [0.007 0.004 0.342 0.007 0.065 0.007 0.006 0.008 0.007 0.007]]\n"
     ]
    }
   ],
   "source": [
    "print(accuracy_mtx[:10,:10])"
   ]
  },
  {
   "cell_type": "code",
   "execution_count": null,
   "metadata": {},
   "outputs": [],
   "source": []
  }
 ],
 "metadata": {
  "kernelspec": {
   "display_name": "Python 3",
   "language": "python",
   "name": "python3"
  },
  "language_info": {
   "codemirror_mode": {
    "name": "ipython",
    "version": 3
   },
   "file_extension": ".py",
   "mimetype": "text/x-python",
   "name": "python",
   "nbconvert_exporter": "python",
   "pygments_lexer": "ipython3",
   "version": "3.7.4"
  }
 },
 "nbformat": 4,
 "nbformat_minor": 2
}
