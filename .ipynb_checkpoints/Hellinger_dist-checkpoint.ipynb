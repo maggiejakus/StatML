{
 "cells": [
  {
   "cell_type": "code",
   "execution_count": 3,
   "metadata": {},
   "outputs": [],
   "source": [
    "import pandas as pd\n",
    "\n",
    "orig_file = pd.read_csv ('original_data.txt', delimiter=' ', header = None)\n",
    "orig_file.to_csv ('OrigCSV.csv', index=None)\n",
    "\n",
    "inf_file = pd.read_csv ('inferred_data.txt', delimiter=' ', header = None)\n",
    "inf_file.to_csv ('InferredCSV.csv', index=None)"
   ]
  },
  {
   "cell_type": "code",
   "execution_count": 4,
   "metadata": {},
   "outputs": [
    {
     "data": {
      "text/plain": [
       "'print(type(orig_file))\\n\\n#prints first SNP in orig_file\\nprint(orig_file.loc[0])\\nprint(\\'here\\')\\n#first index is SNP, second index is number into the SNP (but we start with 5 header type things)\\nprint(orig_file.loc[0,5])\\nprint(\"New line\")\\nprint(orig_file.loc[0:2,5:6])'"
      ]
     },
     "execution_count": 4,
     "metadata": {},
     "output_type": "execute_result"
    }
   ],
   "source": [
    "'''print(type(orig_file))\n",
    "\n",
    "#prints first SNP in orig_file\n",
    "print(orig_file.loc[0])\n",
    "print('here')\n",
    "#first index is SNP, second index is number into the SNP (but we start with 5 header type things)\n",
    "print(orig_file.loc[0,5])\n",
    "print(\"New line\")\n",
    "print(orig_file.loc[0:2,5:6])'''"
   ]
  },
  {
   "cell_type": "code",
   "execution_count": 5,
   "metadata": {},
   "outputs": [],
   "source": [
    "#we want to calculate the probability distributions of the orig and inferred genotypes\n",
    "#inferred data gives three nums, while orig data gives two nums\n",
    "#naive solution\n",
    "\n",
    "pr_maj = []\n",
    "pr_hetero = []\n",
    "pr_min = []\n",
    "\n",
    "for loc in range(5000):\n",
    "    f_maj = 0\n",
    "    f_hetero = 0\n",
    "    f_min = 0\n",
    "    first_SNP = orig_file.loc[loc, 5:]\n",
    "\n",
    "    for i in range(int((len(first_SNP))/2)):\n",
    "        if (first_SNP.loc[5 +2*i] + first_SNP.loc[5+2*i+1]) == 0:\n",
    "            f_maj += 1\n",
    "        elif (first_SNP.loc[5 +2*i] + first_SNP.loc[5+2*i+1]) == 1:\n",
    "            f_hetero += 1\n",
    "        elif (first_SNP.loc[5 +2*i] + first_SNP.loc[5+2*i+1]) == 2:\n",
    "            f_min += 1\n",
    "    pr_maj.append(f_maj / len(first_SNP) * 2.0)\n",
    "    pr_hetero.append(f_hetero / len(first_SNP) * 2.0)\n",
    "    pr_min.append(f_min / len(first_SNP) * 2.0)\n",
    "    "
   ]
  },
  {
   "cell_type": "code",
   "execution_count": 6,
   "metadata": {},
   "outputs": [],
   "source": [
    "#calculating prob inferred\n",
    "pr_maj_inf = []\n",
    "pr_hetero_inf = []\n",
    "pr_min_inf = []\n",
    "\n",
    "for loc in range(5000):\n",
    "    f_maj = 0\n",
    "    f_hetero = 0\n",
    "    f_min = 0\n",
    "    first_SNP = inf_file.loc[loc, 5:]\n",
    "\n",
    "    for i in range(int((len(first_SNP))/3)):\n",
    "        f_maj += first_SNP.loc[5 +3*i]\n",
    "        f_hetero += first_SNP.loc[5 + 3*i + 1]\n",
    "        f_min += first_SNP.loc[5 +3*i + 2]\n",
    "    pr_maj_inf.append(f_maj / len(first_SNP) * 2.0)\n",
    "    pr_hetero_inf.append(f_hetero / len(first_SNP) * 2.0)\n",
    "    pr_min_inf.append(f_min / len(first_SNP) * 2.0)\n",
    "    "
   ]
  },
  {
   "cell_type": "code",
   "execution_count": 7,
   "metadata": {},
   "outputs": [],
   "source": [
    "#calculating Hellinger score\n",
    "\n",
    "import math\n",
    "H = []\n",
    "for i in range(len(pr_maj)):\n",
    "    sqrt_sum = math.sqrt(pr_maj[i] * pr_maj_inf[i]) + math.sqrt(pr_hetero[i] * pr_hetero_inf[i]) + \\\n",
    "                        math.sqrt(pr_min[i] * pr_min_inf[i])\n",
    "    #sqrt_sum = math.sqrt(pr_maj[i] * pr_maj[i]) + math.sqrt(pr_hetero[i] * pr_hetero[i]) + \\\n",
    "    #                    math.sqrt(pr_min[i] * pr_min[i])\n",
    "    H.append(1 - math.sqrt(1-sqrt_sum))"
   ]
  },
  {
   "cell_type": "code",
   "execution_count": 8,
   "metadata": {},
   "outputs": [
    {
     "name": "stdout",
     "output_type": "stream",
     "text": [
      "[0.5715458955414618, 0.5696166121197779, 0.5716270094038679, 0.5715473115818843, 0.5716270094038679, 0.5713889409174167, 0.570055656010954, 0.5654508285625948, 0.5712750922320238, 0.5716270094038678]\n",
      "0.5716270094038679\n",
      "5000\n",
      "0.4106289377918664\n"
     ]
    }
   ],
   "source": [
    "print(H[:10])\n",
    "print(max(H))\n",
    "print(len(H))\n",
    "print(min(H))"
   ]
  },
  {
   "cell_type": "code",
   "execution_count": 9,
   "metadata": {},
   "outputs": [],
   "source": [
    "#want to calculate indices where imputation actually happened (rather than the SNPs \\\n",
    "#that were preserved)\n",
    "\n",
    "imputed_indices = []\n",
    "preserved_indices = []\n",
    "\n",
    "for loc in range(len(pr_maj)):\n",
    "    chrom = inf_file.loc[loc, 0]\n",
    "    if chrom == \"22\":\n",
    "        preserved_indices.append(loc)\n",
    "    else:\n",
    "        imputed_indices.append(loc)\n",
    "        \n"
   ]
  },
  {
   "cell_type": "code",
   "execution_count": 10,
   "metadata": {},
   "outputs": [],
   "source": [
    "#calculating Hellinger score\n",
    "\n",
    "import math\n",
    "H_only_imputed = []\n",
    "for i in range(len(imputed_indices)):\n",
    "    sqrt_sum = math.sqrt(pr_maj[imputed_indices[i]] * pr_maj_inf[imputed_indices[i]]) + \\\n",
    "        math.sqrt(pr_hetero[imputed_indices[i]] * pr_hetero_inf[imputed_indices[i]]) + \\\n",
    "        math.sqrt(pr_min[imputed_indices[i]] * pr_min_inf[imputed_indices[i]])\n",
    "    #sqrt_sum = math.sqrt(pr_maj[i] * pr_maj[i]) + math.sqrt(pr_hetero[i] * pr_hetero[i]) + \\\n",
    "    #                    math.sqrt(pr_min[i] * pr_min[i])\n",
    "    H_only_imputed.append(1 - math.sqrt(1-sqrt_sum))"
   ]
  },
  {
   "cell_type": "code",
   "execution_count": 11,
   "metadata": {},
   "outputs": [
    {
     "name": "stdout",
     "output_type": "stream",
     "text": [
      "0.5716270094038679\n"
     ]
    }
   ],
   "source": [
    "print(max(H_only_imputed))"
   ]
  },
  {
   "cell_type": "code",
   "execution_count": 12,
   "metadata": {},
   "outputs": [
    {
     "name": "stdout",
     "output_type": "stream",
     "text": [
      "[0.5715458955414618, 0.5696166121197779, 0.5715473115818843, 0.5713889409174167, 0.570055656010954, 0.5654508285625948, 0.5712750922320238, 0.5715823999513162, 0.5691856273693133, 0.5702522937908817]\n"
     ]
    }
   ],
   "source": [
    "print(H_only_imputed[:10])"
   ]
  },
  {
   "cell_type": "code",
   "execution_count": 13,
   "metadata": {},
   "outputs": [
    {
     "name": "stdout",
     "output_type": "stream",
     "text": [
      "[0.5715458955414618, 0.5696166121197779, 0.5716270094038679, 0.5715473115818843, 0.5716270094038679, 0.5713889409174167, 0.570055656010954, 0.5654508285625948, 0.5712750922320238, 0.5716270094038678]\n"
     ]
    }
   ],
   "source": [
    "print(H[:10])"
   ]
  },
  {
   "cell_type": "code",
   "execution_count": 25,
   "metadata": {},
   "outputs": [
    {
     "data": {
      "image/png": "[encoded data removed]",
      "text/plain": [
       "<Figure size 432x288 with 1 Axes>"
      ]
     },
     "metadata": {
      "needs_background": "light"
     },
     "output_type": "display_data"
    }
   ],
   "source": [
    "#making violin plot of Hellinger score\n",
    "import matplotlib.pyplot as plt\n",
    "import numpy as np\n",
    "\n",
    "import matplotlib.patches as mpatches\n",
    "from itertools import repeat\n",
    "\n",
    "red_patch = mpatches.Patch(color='blue')\n",
    "\n",
    "\n",
    "fig = plt.figure()\n",
    "\n",
    "ax = fig.add_axes([0,0,1,1])\n",
    "#ax.set_ylim(0, 1)\n",
    "\n",
    "#fake data\n",
    "pos   = [1]\n",
    "label = ['IMPUTE2 at 50%']\n",
    "data  = [np.random.normal(size=100) for i in pos]\n",
    "fake_handles = repeat(red_patch, len(pos))\n",
    "\n",
    "\n",
    "bp = ax.violinplot(H_only_imputed)\n",
    "ax.legend(fake_handles, label)\n",
    "plt.show()"
   ]
  },
  {
   "cell_type": "code",
   "execution_count": null,
   "metadata": {},
   "outputs": [],
   "source": []
  }
 ],
 "metadata": {
  "kernelspec": {
   "display_name": "Python 3",
   "language": "python",
   "name": "python3"
  },
  "language_info": {
   "codemirror_mode": {
    "name": "ipython",
    "version": 3
   },
   "file_extension": ".py",
   "mimetype": "text/x-python",
   "name": "python",
   "nbconvert_exporter": "python",
   "pygments_lexer": "ipython3",
   "version": "3.7.4"
  }
 },
 "nbformat": 4,
 "nbformat_minor": 4
}
