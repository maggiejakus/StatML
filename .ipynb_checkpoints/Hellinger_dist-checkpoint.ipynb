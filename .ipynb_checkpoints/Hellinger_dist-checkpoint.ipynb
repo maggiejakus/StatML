{
 "cells": [
  {
   "cell_type": "code",
   "execution_count": 32,
   "metadata": {},
   "outputs": [
    {
     "name": "stdout",
     "output_type": "stream",
     "text": [
      "      0            1         2   3   4    5    6    7    8    9    ...  501  \\\n",
      "0      22  rs587720402  16050607   A   G    1    1    1    1    1  ...    1   \n",
      "1      22  rs587616822  16050840   G   C    1    1    1    1    1  ...    1   \n",
      "2      22  rs587702478  16050847   C   T    1    1    1    1    1  ...    1   \n",
      "3      22   rs62224609  16051249   C   T    1    1    1    1    0  ...    1   \n",
      "4      22  rs192339082  16051477   A   C    1    1    1    1    1  ...    1   \n",
      "...   ...          ...       ...  ..  ..  ...  ...  ...  ...  ...  ...  ...   \n",
      "4995   22   rs78175391  17472134   C   T    1    1    1    1    1  ...    1   \n",
      "4996   22   rs73147665  17472191   C   T    1    1    1    1    1  ...    1   \n",
      "4997   22  rs190473969  17472220   T   C    1    1    1    1    1  ...    1   \n",
      "4998   22   rs11703535  17472239   C   A    1    1    1    1    1  ...    1   \n",
      "4999   22   rs17204811  17473229   G   A    1    1    1    1    1  ...    1   \n",
      "\n",
      "      502  503  504  505  506  507  508  509  510  \n",
      "0       1    1    1    1    1    1    1    1    1  \n",
      "1       1    1    1    1    1    1    1    1    1  \n",
      "2       1    1    1    1    1    1    1    1    1  \n",
      "3       1    1    1    1    1    1    1    1    1  \n",
      "4       1    1    1    1    1    1    1    1    1  \n",
      "...   ...  ...  ...  ...  ...  ...  ...  ...  ...  \n",
      "4995    1    0    0    1    1    1    1    1    1  \n",
      "4996    1    1    1    1    1    1    1    1    1  \n",
      "4997    1    1    1    1    1    1    1    1    1  \n",
      "4998    1    1    1    1    1    1    1    1    1  \n",
      "4999    1    1    1    1    1    1    1    1    1  \n",
      "\n",
      "[5000 rows x 511 columns]\n"
     ]
    }
   ],
   "source": [
    "import pandas as pd\n",
    "\n",
    "orig_file = pd.read_csv ('original_data.txt', delimiter=' ', header = None)\n",
    "orig_file.to_csv ('OrigCSV.csv', index=None)\n",
    "\n",
    "inf_file = pd.read_csv ('inferred_data.txt', delimiter=' ', header = None)\n",
    "inf_file.to_csv ('InferredCSV.csv', index=None)\n",
    "\n",
    "\n",
    "\n",
    "print(orig_file)"
   ]
  },
  {
   "cell_type": "code",
   "execution_count": 9,
   "metadata": {},
   "outputs": [
    {
     "name": "stdout",
     "output_type": "stream",
     "text": [
      "<class 'pandas.core.frame.DataFrame'>\n",
      "0               22\n",
      "1      rs587720402\n",
      "2         16050607\n",
      "3                A\n",
      "4                G\n",
      "          ...     \n",
      "506              1\n",
      "507              1\n",
      "508              1\n",
      "509              1\n",
      "510              1\n",
      "Name: 0, Length: 511, dtype: object\n",
      "here\n",
      "1\n",
      "New line\n",
      "   5  6\n",
      "0  1  1\n",
      "1  1  1\n",
      "2  1  1\n"
     ]
    }
   ],
   "source": [
    "print(type(orig_file))\n",
    "\n",
    "#prints first SNP in orig_file\n",
    "print(orig_file.loc[0])\n",
    "print('here')\n",
    "#first index is SNP, second index is number into the SNP (but we start with 5 header type things)\n",
    "print(orig_file.loc[0,5])\n",
    "print(\"New line\")\n",
    "print(orig_file.loc[0:2,5:6])"
   ]
  },
  {
   "cell_type": "code",
   "execution_count": 37,
   "metadata": {},
   "outputs": [],
   "source": [
    "#we want to calculate the probability distributions of the orig and inferred genotypes\n",
    "#inferred data gives three nums, while orig data gives two nums\n",
    "#naive solution\n",
    "\n",
    "pr_maj = []\n",
    "pr_hetero = []\n",
    "pr_min = []\n",
    "\n",
    "for loc in range(5000):\n",
    "    f_maj = 0\n",
    "    f_hetero = 0\n",
    "    f_min = 0\n",
    "    first_SNP = orig_file.loc[loc, 5:]\n",
    "\n",
    "    for i in range(int((len(first_SNP))/2)):\n",
    "        if (first_SNP.loc[5 +2*i] + first_SNP.loc[5+2*i+1]) == 0:\n",
    "            f_maj += 1\n",
    "        elif (first_SNP.loc[5 +2*i] + first_SNP.loc[5+2*i+1]) == 1:\n",
    "            f_hetero += 1\n",
    "        elif (first_SNP.loc[5 +2*i] + first_SNP.loc[5+2*i+1]) == 2:\n",
    "            f_min += 1\n",
    "    pr_maj.append(f_maj / len(first_SNP) * 2.0)\n",
    "    pr_hetero.append(f_hetero / len(first_SNP) * 2.0)\n",
    "    pr_min.append(f_min / len(first_SNP) * 2.0)\n",
    "    "
   ]
  },
  {
   "cell_type": "code",
   "execution_count": 58,
   "metadata": {},
   "outputs": [],
   "source": [
    "#calculating prob inferred\n",
    "pr_maj_inf = []\n",
    "pr_hetero_inf = []\n",
    "pr_min_inf = []\n",
    "\n",
    "for loc in range(5000):\n",
    "    f_maj = 0\n",
    "    f_hetero = 0\n",
    "    f_min = 0\n",
    "    first_SNP = inf_file.loc[loc, 5:]\n",
    "\n",
    "    for i in range(int((len(first_SNP))/3)):\n",
    "        f_maj += first_SNP.loc[5 +3*i]\n",
    "        f_hetero += first_SNP.loc[5 + 3*i + 1]\n",
    "        f_min += first_SNP.loc[5 +3*i + 2]\n",
    "    pr_maj_inf.append(f_maj / len(first_SNP) * 2.0)\n",
    "    pr_hetero_inf.append(f_hetero / len(first_SNP) * 2.0)\n",
    "    pr_min_inf.append(f_min / len(first_SNP) * 2.0)\n",
    "    "
   ]
  },
  {
   "cell_type": "code",
   "execution_count": 59,
   "metadata": {},
   "outputs": [],
   "source": [
    "#calculating Hellinger score\n",
    "\n",
    "import math\n",
    "H = []\n",
    "for i in range(len(pr_maj)):\n",
    "    sqrt_sum = math.sqrt(pr_maj[i] * pr_maj_inf[i]) + math.sqrt(pr_hetero[i] * pr_hetero_inf[i]) + \\\n",
    "                        math.sqrt(pr_min[i] * pr_min_inf[i])\n",
    "    #sqrt_sum = math.sqrt(pr_maj[i] * pr_maj[i]) + math.sqrt(pr_hetero[i] * pr_hetero[i]) + \\\n",
    "    #                    math.sqrt(pr_min[i] * pr_min[i])\n",
    "    H.append(1 - math.sqrt(1-sqrt_sum))"
   ]
  },
  {
   "cell_type": "code",
   "execution_count": 60,
   "metadata": {},
   "outputs": [
    {
     "name": "stdout",
     "output_type": "stream",
     "text": [
      "[0.5715458955414618, 0.5696166121197779, 0.5716270094038679, 0.5715473115818843, 0.5716270094038679, 0.5713889409174167, 0.570055656010954, 0.5654508285625948, 0.5712750922320238, 0.5716270094038678]\n",
      "0.5716270094038679\n",
      "5000\n",
      "0.4106289377918664\n"
     ]
    }
   ],
   "source": [
    "print(H[:10])\n",
    "print(max(H))\n",
    "print(len(H))\n",
    "print(min(H))"
   ]
  },
  {
   "cell_type": "code",
   "execution_count": 63,
   "metadata": {},
   "outputs": [
    {
     "name": "stdout",
     "output_type": "stream",
     "text": [
      "2458\n",
      "2542\n"
     ]
    }
   ],
   "source": [
    "#want to calculate indices where imputation actually happened (rather than the SNPs \\\n",
    "#that were preserved)\n",
    "\n",
    "imputed_indices = []\n",
    "preserved_indices = []\n",
    "\n",
    "for loc in range(len(pr_maj)):\n",
    "    chrom = inf_file.loc[loc, 0]\n",
    "    if chrom == \"22\":\n",
    "        preserved_indices.append(loc)\n",
    "    else:\n",
    "        imputed_indices.append(loc)\n",
    "        \n"
   ]
  },
  {
   "cell_type": "code",
   "execution_count": 64,
   "metadata": {},
   "outputs": [],
   "source": [
    "#calculating Hellinger score\n",
    "\n",
    "import math\n",
    "H_only_imputed = []\n",
    "for i in range(len(imputed_indices)):\n",
    "    sqrt_sum = math.sqrt(pr_maj[imputed_indices[i]] * pr_maj_inf[imputed_indices[i]]) + \\\n",
    "        math.sqrt(pr_hetero[imputed_indices[i]] * pr_hetero_inf[imputed_indices[i]]) + \\\n",
    "        math.sqrt(pr_min[imputed_indices[i]] * pr_min_inf[imputed_indices[i]])\n",
    "    #sqrt_sum = math.sqrt(pr_maj[i] * pr_maj[i]) + math.sqrt(pr_hetero[i] * pr_hetero[i]) + \\\n",
    "    #                    math.sqrt(pr_min[i] * pr_min[i])\n",
    "    H_only_imputed.append(1 - math.sqrt(1-sqrt_sum))"
   ]
  },
  {
   "cell_type": "code",
   "execution_count": 65,
   "metadata": {},
   "outputs": [
    {
     "name": "stdout",
     "output_type": "stream",
     "text": [
      "0.5716270094038679\n"
     ]
    }
   ],
   "source": [
    "print(max(H_only_imputed))"
   ]
  },
  {
   "cell_type": "code",
   "execution_count": 66,
   "metadata": {},
   "outputs": [
    {
     "name": "stdout",
     "output_type": "stream",
     "text": [
      "[0.5715458955414618, 0.5696166121197779, 0.5715473115818843, 0.5713889409174167, 0.570055656010954, 0.5654508285625948, 0.5712750922320238, 0.5715823999513162, 0.5691856273693133, 0.5702522937908817]\n"
     ]
    }
   ],
   "source": [
    "print(H_only_imputed[:10])"
   ]
  },
  {
   "cell_type": "code",
   "execution_count": 67,
   "metadata": {},
   "outputs": [
    {
     "name": "stdout",
     "output_type": "stream",
     "text": [
      "[0.5715458955414618, 0.5696166121197779, 0.5716270094038679, 0.5715473115818843, 0.5716270094038679, 0.5713889409174167, 0.570055656010954, 0.5654508285625948, 0.5712750922320238, 0.5716270094038678]\n"
     ]
    }
   ],
   "source": [
    "print(H[:10])"
   ]
  },
  {
   "cell_type": "code",
   "execution_count": null,
   "metadata": {},
   "outputs": [],
   "source": []
  }
 ],
 "metadata": {
  "kernelspec": {
   "display_name": "Python 3",
   "language": "python",
   "name": "python3"
  },
  "language_info": {
   "codemirror_mode": {
    "name": "ipython",
    "version": 3
   },
   "file_extension": ".py",
   "mimetype": "text/x-python",
   "name": "python",
   "nbconvert_exporter": "python",
   "pygments_lexer": "ipython3",
   "version": "3.7.4"
  }
 },
 "nbformat": 4,
 "nbformat_minor": 4
}
